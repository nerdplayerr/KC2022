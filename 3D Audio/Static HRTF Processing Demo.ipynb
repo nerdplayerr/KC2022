{
 "cells": [
  {
   "cell_type": "code",
   "execution_count": null,
   "metadata": {},
   "outputs": [],
   "source": [
    "# PREPARATION"
   ]
  },
  {
   "cell_type": "code",
   "execution_count": 2,
   "metadata": {},
   "outputs": [],
   "source": [
    "# Memeriksa Instalasi Library pada Laptop\n",
    "import numpy as np\n",
    "import matplotlib.pyplot as plt\n",
    "import sys, glob\n",
    "import soundfile as sf # untuk membaca audio\n",
    "import sofa # untuk membaca SOFA HTRFs\n",
    "import librosa # mensampel ulang fungsi\n",
    "from scipy import signal # fast convolution function\n",
    "import IPython.display as ipd\n",
    "from IPython.display import Audio # mendengarkan audio di notebook\n",
    "import pathlib"
   ]
  },
  {
   "cell_type": "code",
   "execution_count": 3,
   "metadata": {},
   "outputs": [],
   "source": [
    "# Direktori Penyimpanan Dataset Audio\n",
    "hrtf_dir_MIT = 'elev0/*.wav'\n",
    "# (BELUM PERLU) source_dir = 'Samples 48k/*.wav'\n",
    "# (BELUM PERLU) hrtf_dir_LISTEN = 'HRTFsets/LISTEN/IRC_1002/COMPENSATED/WAV/IRC_1002_C/*.wav'\n",
    "# (BELUM PERLU) hrtf_dir_SOFA = 'HRTFsets/SOFA Far Field/*.sofa'"
   ]
  },
  {
   "cell_type": "code",
   "execution_count": 4,
   "metadata": {},
   "outputs": [
    {
     "data": {
      "text/plain": [
       "WindowsPath('D:/KULIAH/PKM-KC 2022/Program/3D Audio')"
      ]
     },
     "execution_count": 4,
     "metadata": {},
     "output_type": "execute_result"
    }
   ],
   "source": [
    "# Menginisialisasi variabel _MIT sebagai alamat folder dataset MIT\n",
    "_MIT = glob.glob(hrtf_dir_MIT)\n",
    "pathlib.Path().parent.resolve()"
   ]
  },
  {
   "cell_type": "code",
   "execution_count": 5,
   "metadata": {},
   "outputs": [
    {
     "name": "stdout",
     "output_type": "stream",
     "text": [
      "['elev0\\\\L0e000a.wav', 'elev0\\\\L0e005a.wav', 'elev0\\\\L0e010a.wav', 'elev0\\\\L0e015a.wav', 'elev0\\\\L0e020a.wav', 'elev0\\\\L0e025a.wav', 'elev0\\\\L0e030a.wav', 'elev0\\\\L0e035a.wav', 'elev0\\\\L0e040a.wav', 'elev0\\\\L0e045a.wav', 'elev0\\\\L0e050a.wav', 'elev0\\\\L0e055a.wav', 'elev0\\\\L0e060a.wav', 'elev0\\\\L0e065a.wav', 'elev0\\\\L0e070a.wav', 'elev0\\\\L0e075a.wav', 'elev0\\\\L0e080a.wav', 'elev0\\\\L0e085a.wav', 'elev0\\\\L0e090a.wav', 'elev0\\\\L0e095a.wav', 'elev0\\\\L0e100a.wav', 'elev0\\\\L0e105a.wav', 'elev0\\\\L0e110a.wav', 'elev0\\\\L0e115a.wav', 'elev0\\\\L0e120a.wav', 'elev0\\\\L0e125a.wav', 'elev0\\\\L0e130a.wav', 'elev0\\\\L0e135a.wav', 'elev0\\\\L0e140a.wav', 'elev0\\\\L0e145a.wav', 'elev0\\\\L0e150a.wav', 'elev0\\\\L0e155a.wav', 'elev0\\\\L0e160a.wav', 'elev0\\\\L0e165a.wav', 'elev0\\\\L0e170a.wav', 'elev0\\\\L0e175a.wav', 'elev0\\\\L0e180a.wav', 'elev0\\\\L0e185a.wav', 'elev0\\\\L0e190a.wav', 'elev0\\\\L0e195a.wav', 'elev0\\\\L0e200a.wav', 'elev0\\\\L0e205a.wav', 'elev0\\\\L0e210a.wav', 'elev0\\\\L0e215a.wav', 'elev0\\\\L0e220a.wav', 'elev0\\\\L0e225a.wav', 'elev0\\\\L0e230a.wav', 'elev0\\\\L0e235a.wav', 'elev0\\\\L0e240a.wav', 'elev0\\\\L0e245a.wav', 'elev0\\\\L0e250a.wav', 'elev0\\\\L0e255a.wav', 'elev0\\\\L0e260a.wav', 'elev0\\\\L0e265a.wav', 'elev0\\\\L0e270a.wav', 'elev0\\\\L0e275a.wav', 'elev0\\\\L0e280a.wav', 'elev0\\\\L0e285a.wav', 'elev0\\\\L0e290a.wav', 'elev0\\\\L0e295a.wav', 'elev0\\\\L0e300a.wav', 'elev0\\\\L0e305a.wav', 'elev0\\\\L0e310a.wav', 'elev0\\\\L0e315a.wav', 'elev0\\\\L0e320a.wav', 'elev0\\\\L0e325a.wav', 'elev0\\\\L0e330a.wav', 'elev0\\\\L0e335a.wav', 'elev0\\\\L0e340a.wav', 'elev0\\\\L0e345a.wav', 'elev0\\\\L0e350a.wav', 'elev0\\\\L0e355a.wav', 'elev0\\\\R0e000a.wav', 'elev0\\\\R0e005a.wav', 'elev0\\\\R0e010a.wav', 'elev0\\\\R0e015a.wav', 'elev0\\\\R0e020a.wav', 'elev0\\\\R0e025a.wav', 'elev0\\\\R0e030a.wav', 'elev0\\\\R0e035a.wav', 'elev0\\\\R0e040a.wav', 'elev0\\\\R0e045a.wav', 'elev0\\\\R0e050a.wav', 'elev0\\\\R0e055a.wav', 'elev0\\\\R0e060a.wav', 'elev0\\\\R0e065a.wav', 'elev0\\\\R0e070a.wav', 'elev0\\\\R0e075a.wav', 'elev0\\\\R0e080a.wav', 'elev0\\\\R0e085a.wav', 'elev0\\\\R0e090a.wav', 'elev0\\\\R0e095a.wav', 'elev0\\\\R0e100a.wav', 'elev0\\\\R0e105a.wav', 'elev0\\\\R0e110a.wav', 'elev0\\\\R0e115a.wav', 'elev0\\\\R0e120a.wav', 'elev0\\\\R0e125a.wav', 'elev0\\\\R0e130a.wav', 'elev0\\\\R0e135a.wav', 'elev0\\\\R0e140a.wav', 'elev0\\\\R0e145a.wav', 'elev0\\\\R0e150a.wav', 'elev0\\\\R0e155a.wav', 'elev0\\\\R0e160a.wav', 'elev0\\\\R0e165a.wav', 'elev0\\\\R0e170a.wav', 'elev0\\\\R0e175a.wav', 'elev0\\\\R0e180a.wav', 'elev0\\\\R0e185a.wav', 'elev0\\\\R0e190a.wav', 'elev0\\\\R0e195a.wav', 'elev0\\\\R0e200a.wav', 'elev0\\\\R0e205a.wav', 'elev0\\\\R0e210a.wav', 'elev0\\\\R0e215a.wav', 'elev0\\\\R0e220a.wav', 'elev0\\\\R0e225a.wav', 'elev0\\\\R0e230a.wav', 'elev0\\\\R0e235a.wav', 'elev0\\\\R0e240a.wav', 'elev0\\\\R0e245a.wav', 'elev0\\\\R0e250a.wav', 'elev0\\\\R0e255a.wav', 'elev0\\\\R0e260a.wav', 'elev0\\\\R0e265a.wav', 'elev0\\\\R0e270a.wav', 'elev0\\\\R0e275a.wav', 'elev0\\\\R0e280a.wav', 'elev0\\\\R0e285a.wav', 'elev0\\\\R0e290a.wav', 'elev0\\\\R0e295a.wav', 'elev0\\\\R0e300a.wav', 'elev0\\\\R0e305a.wav', 'elev0\\\\R0e310a.wav', 'elev0\\\\R0e315a.wav', 'elev0\\\\R0e320a.wav', 'elev0\\\\R0e325a.wav', 'elev0\\\\R0e330a.wav', 'elev0\\\\R0e335a.wav', 'elev0\\\\R0e340a.wav', 'elev0\\\\R0e345a.wav', 'elev0\\\\R0e350a.wav', 'elev0\\\\R0e355a.wav']\n"
     ]
    }
   ],
   "source": [
    "x = _MIT\n",
    "print(_MIT)"
   ]
  },
  {
   "cell_type": "code",
   "execution_count": 6,
   "metadata": {},
   "outputs": [],
   "source": [
    "# BAGIAN 1\n",
    "\n",
    "# Virtualisasi dataset audio dari MIT\n",
    "# Penggunaan konvolusi domain waktu (time domain convolusion)"
   ]
  },
  {
   "cell_type": "code",
   "execution_count": 7,
   "metadata": {},
   "outputs": [
    {
     "data": {
      "text/plain": [
       "['elev0\\\\L0e000a.wav',\n",
       " 'elev0\\\\L0e005a.wav',\n",
       " 'elev0\\\\L0e010a.wav',\n",
       " 'elev0\\\\L0e015a.wav',\n",
       " 'elev0\\\\L0e020a.wav',\n",
       " 'elev0\\\\L0e025a.wav',\n",
       " 'elev0\\\\L0e030a.wav',\n",
       " 'elev0\\\\L0e035a.wav',\n",
       " 'elev0\\\\L0e040a.wav',\n",
       " 'elev0\\\\L0e045a.wav',\n",
       " 'elev0\\\\L0e050a.wav',\n",
       " 'elev0\\\\L0e055a.wav',\n",
       " 'elev0\\\\L0e060a.wav',\n",
       " 'elev0\\\\L0e065a.wav',\n",
       " 'elev0\\\\L0e070a.wav',\n",
       " 'elev0\\\\L0e075a.wav',\n",
       " 'elev0\\\\L0e080a.wav',\n",
       " 'elev0\\\\L0e085a.wav',\n",
       " 'elev0\\\\L0e090a.wav',\n",
       " 'elev0\\\\L0e095a.wav',\n",
       " 'elev0\\\\L0e100a.wav',\n",
       " 'elev0\\\\L0e105a.wav',\n",
       " 'elev0\\\\L0e110a.wav',\n",
       " 'elev0\\\\L0e115a.wav',\n",
       " 'elev0\\\\L0e120a.wav',\n",
       " 'elev0\\\\L0e125a.wav',\n",
       " 'elev0\\\\L0e130a.wav',\n",
       " 'elev0\\\\L0e135a.wav',\n",
       " 'elev0\\\\L0e140a.wav',\n",
       " 'elev0\\\\L0e145a.wav',\n",
       " 'elev0\\\\L0e150a.wav',\n",
       " 'elev0\\\\L0e155a.wav',\n",
       " 'elev0\\\\L0e160a.wav',\n",
       " 'elev0\\\\L0e165a.wav',\n",
       " 'elev0\\\\L0e170a.wav',\n",
       " 'elev0\\\\L0e175a.wav',\n",
       " 'elev0\\\\L0e180a.wav',\n",
       " 'elev0\\\\L0e185a.wav',\n",
       " 'elev0\\\\L0e190a.wav',\n",
       " 'elev0\\\\L0e195a.wav',\n",
       " 'elev0\\\\L0e200a.wav',\n",
       " 'elev0\\\\L0e205a.wav',\n",
       " 'elev0\\\\L0e210a.wav',\n",
       " 'elev0\\\\L0e215a.wav',\n",
       " 'elev0\\\\L0e220a.wav',\n",
       " 'elev0\\\\L0e225a.wav',\n",
       " 'elev0\\\\L0e230a.wav',\n",
       " 'elev0\\\\L0e235a.wav',\n",
       " 'elev0\\\\L0e240a.wav',\n",
       " 'elev0\\\\L0e245a.wav',\n",
       " 'elev0\\\\L0e250a.wav',\n",
       " 'elev0\\\\L0e255a.wav',\n",
       " 'elev0\\\\L0e260a.wav',\n",
       " 'elev0\\\\L0e265a.wav',\n",
       " 'elev0\\\\L0e270a.wav',\n",
       " 'elev0\\\\L0e275a.wav',\n",
       " 'elev0\\\\L0e280a.wav',\n",
       " 'elev0\\\\L0e285a.wav',\n",
       " 'elev0\\\\L0e290a.wav',\n",
       " 'elev0\\\\L0e295a.wav',\n",
       " 'elev0\\\\L0e300a.wav',\n",
       " 'elev0\\\\L0e305a.wav',\n",
       " 'elev0\\\\L0e310a.wav',\n",
       " 'elev0\\\\L0e315a.wav',\n",
       " 'elev0\\\\L0e320a.wav',\n",
       " 'elev0\\\\L0e325a.wav',\n",
       " 'elev0\\\\L0e330a.wav',\n",
       " 'elev0\\\\L0e335a.wav',\n",
       " 'elev0\\\\L0e340a.wav',\n",
       " 'elev0\\\\L0e345a.wav',\n",
       " 'elev0\\\\L0e350a.wav',\n",
       " 'elev0\\\\L0e355a.wav',\n",
       " 'elev0\\\\R0e000a.wav',\n",
       " 'elev0\\\\R0e005a.wav',\n",
       " 'elev0\\\\R0e010a.wav',\n",
       " 'elev0\\\\R0e015a.wav',\n",
       " 'elev0\\\\R0e020a.wav',\n",
       " 'elev0\\\\R0e025a.wav',\n",
       " 'elev0\\\\R0e030a.wav',\n",
       " 'elev0\\\\R0e035a.wav',\n",
       " 'elev0\\\\R0e040a.wav',\n",
       " 'elev0\\\\R0e045a.wav',\n",
       " 'elev0\\\\R0e050a.wav',\n",
       " 'elev0\\\\R0e055a.wav',\n",
       " 'elev0\\\\R0e060a.wav',\n",
       " 'elev0\\\\R0e065a.wav',\n",
       " 'elev0\\\\R0e070a.wav',\n",
       " 'elev0\\\\R0e075a.wav',\n",
       " 'elev0\\\\R0e080a.wav',\n",
       " 'elev0\\\\R0e085a.wav',\n",
       " 'elev0\\\\R0e090a.wav',\n",
       " 'elev0\\\\R0e095a.wav',\n",
       " 'elev0\\\\R0e100a.wav',\n",
       " 'elev0\\\\R0e105a.wav',\n",
       " 'elev0\\\\R0e110a.wav',\n",
       " 'elev0\\\\R0e115a.wav',\n",
       " 'elev0\\\\R0e120a.wav',\n",
       " 'elev0\\\\R0e125a.wav',\n",
       " 'elev0\\\\R0e130a.wav',\n",
       " 'elev0\\\\R0e135a.wav',\n",
       " 'elev0\\\\R0e140a.wav',\n",
       " 'elev0\\\\R0e145a.wav',\n",
       " 'elev0\\\\R0e150a.wav',\n",
       " 'elev0\\\\R0e155a.wav',\n",
       " 'elev0\\\\R0e160a.wav',\n",
       " 'elev0\\\\R0e165a.wav',\n",
       " 'elev0\\\\R0e170a.wav',\n",
       " 'elev0\\\\R0e175a.wav',\n",
       " 'elev0\\\\R0e180a.wav',\n",
       " 'elev0\\\\R0e185a.wav',\n",
       " 'elev0\\\\R0e190a.wav',\n",
       " 'elev0\\\\R0e195a.wav',\n",
       " 'elev0\\\\R0e200a.wav',\n",
       " 'elev0\\\\R0e205a.wav',\n",
       " 'elev0\\\\R0e210a.wav',\n",
       " 'elev0\\\\R0e215a.wav',\n",
       " 'elev0\\\\R0e220a.wav',\n",
       " 'elev0\\\\R0e225a.wav',\n",
       " 'elev0\\\\R0e230a.wav',\n",
       " 'elev0\\\\R0e235a.wav',\n",
       " 'elev0\\\\R0e240a.wav',\n",
       " 'elev0\\\\R0e245a.wav',\n",
       " 'elev0\\\\R0e250a.wav',\n",
       " 'elev0\\\\R0e255a.wav',\n",
       " 'elev0\\\\R0e260a.wav',\n",
       " 'elev0\\\\R0e265a.wav',\n",
       " 'elev0\\\\R0e270a.wav',\n",
       " 'elev0\\\\R0e275a.wav',\n",
       " 'elev0\\\\R0e280a.wav',\n",
       " 'elev0\\\\R0e285a.wav',\n",
       " 'elev0\\\\R0e290a.wav',\n",
       " 'elev0\\\\R0e295a.wav',\n",
       " 'elev0\\\\R0e300a.wav',\n",
       " 'elev0\\\\R0e305a.wav',\n",
       " 'elev0\\\\R0e310a.wav',\n",
       " 'elev0\\\\R0e315a.wav',\n",
       " 'elev0\\\\R0e320a.wav',\n",
       " 'elev0\\\\R0e325a.wav',\n",
       " 'elev0\\\\R0e330a.wav',\n",
       " 'elev0\\\\R0e335a.wav',\n",
       " 'elev0\\\\R0e340a.wav',\n",
       " 'elev0\\\\R0e345a.wav',\n",
       " 'elev0\\\\R0e350a.wav',\n",
       " 'elev0\\\\R0e355a.wav']"
      ]
     },
     "execution_count": 7,
     "metadata": {},
     "output_type": "execute_result"
    }
   ],
   "source": [
    "# Menampilkan Daftar File dalam Alamat Folder yang Dituju\n",
    "_MIT.sort()\n",
    "_MIT"
   ]
  },
  {
   "cell_type": "code",
   "execution_count": 8,
   "metadata": {},
   "outputs": [
    {
     "name": "stdout",
     "output_type": "stream",
     "text": [
      "Using HRTF: elev0\\L0e000a.wav\n"
     ]
    }
   ],
   "source": [
    "# Memasukkan file HRIR sesuai dengan Nomor File yang Diindekskan\n",
    "az_index = 0\n",
    "print('Using HRTF: ' + _MIT[az_index])\n",
    "[HRIR,fs_H] = sf.read(_MIT[az_index])\n",
    "# print('Sample rate =' + str(fs_H))\n",
    "# print('Data dimensions: ',HRIR.shape)"
   ]
  },
  {
   "cell_type": "code",
   "execution_count": null,
   "metadata": {},
   "outputs": [],
   "source": [
    "# panggil cpp\n",
    "# import os\n",
    "# os.listdir('../pixy2/src/host/libpixyusb2/include')\n",
    "# os.getcwd()\n",
    "\n",
    "# import subprocess\n",
    "\n",
    "# cpp_path = \"../pixy2/src/host/libpixyusb2_examples/get_blocks_cpp_demo/get_blocks_cpp_demo.cpp\"\n",
    "# cpp_path = \"../pixy2/src/host/libpixyusb2/include/libpixyusb2.h\"\n",
    "\n",
    "# subprocess.call([\"g++\", cpp_path])\n",
    "# subprocess.call(\"./a.out\")"
   ]
  },
  {
   "cell_type": "code",
   "execution_count": 16,
   "metadata": {},
   "outputs": [
    {
     "name": "stdout",
     "output_type": "stream",
     "text": [
      "Using HRTF: elev0\\L0e090a.wav\n",
      "Sample rate =44100\n",
      "Data dimensions:  (512,)\n"
     ]
    }
   ],
   "source": [
    "import os\n",
    "import wave\n",
    "import threading\n",
    "import sys\n",
    "import time\n",
    "\n",
    "# PyAudio Library\n",
    "import pyaudio\n",
    "\n",
    "class WavePlayerLoop(threading.Thread):\n",
    "    CHUNK = 1024\n",
    "\n",
    "    def __init__(self, filepath, loop):\n",
    "        \"\"\"\n",
    "        Initialize `WavePlayerLoop` class.\n",
    "        PARAM:\n",
    "            -- filepath (String) : File Path to wave file.\n",
    "            -- loop (boolean)    : True if you want loop playback.\n",
    "                                   False otherwise.\n",
    "        \"\"\"\n",
    "        super(WavePlayerLoop, self).__init__()\n",
    "        self.filepath = os.path.abspath(filepath)\n",
    "        self.loop = loop\n",
    "\n",
    "    def run(self):\n",
    "        # Open Wave File and start play!\n",
    "        wf = wave.open(self.filepath, 'rb')\n",
    "        player = pyaudio.PyAudio()\n",
    "\n",
    "        # Open Output Stream (based on PyAudio tutorial)\n",
    "        stream = player.open(format=player.get_format_from_width(wf.getsampwidth()),\n",
    "                             channels=wf.getnchannels(),\n",
    "                             rate=wf.getframerate(),\n",
    "                             output=True)\n",
    "\n",
    "        # PLAYBACK LOOP\n",
    "        data = wf.readframes(self.CHUNK)\n",
    "        while self.loop:\n",
    "            stream.write(data)\n",
    "            data = wf.readframes(self.CHUNK)\n",
    "            if data == b'':  # If file is over then rewind.\n",
    "                wf.rewind()\n",
    "                data = wf.readframes(self.CHUNK)\n",
    "            time.sleep(1)\n",
    "\n",
    "        stream.close()\n",
    "        player.terminate()\n",
    "\n",
    "    def play(self):\n",
    "        \"\"\"\n",
    "        Just another name for self.start()\n",
    "        \"\"\"\n",
    "        self.start()\n",
    "\n",
    "    def stop(self):\n",
    "        \"\"\"\n",
    "        Stop playback.\n",
    "        \"\"\"\n",
    "        self.loop = False\n",
    "        \n",
    "az_index = 18\n",
    "print('Using HRTF: ' + _MIT[az_index])\n",
    "[HRIR,fs_H] = sf.read(_MIT[az_index])\n",
    "# print('Sample rate =' + str(fs_H))\n",
    "# print('Data dimensions: ',HRIR.shape)\n"
   ]
  },
  {
   "cell_type": "code",
   "execution_count": 19,
   "metadata": {},
   "outputs": [],
   "source": [
    "player = WavePlayerLoop(_MIT[az_index], True)\n",
    "player.play()"
   ]
  },
  {
   "cell_type": "code",
   "execution_count": 20,
   "metadata": {},
   "outputs": [],
   "source": [
    "player.stop()"
   ]
  },
  {
   "cell_type": "code",
   "execution_count": 34,
   "metadata": {},
   "outputs": [
    {
     "name": "stdout",
     "output_type": "stream",
     "text": [
      "c\n"
     ]
    },
    {
     "name": "stderr",
     "output_type": "stream",
     "text": [
      "ALSA lib pcm.c:8526:(snd_pcm_recover) underrun occurred\n",
      "ALSA lib pcm.c:8526:(snd_pcm_recover) underrun occurred\n",
      "ALSA lib pcm.c:8526:(snd_pcm_recover) underrun occurred\n",
      "ALSA lib pcm.c:8526:(snd_pcm_recover) underrun occurred\n",
      "ALSA lib pcm.c:8526:(snd_pcm_recover) underrun occurred\n",
      "ALSA lib pcm.c:8526:(snd_pcm_recover) underrun occurred\n",
      "ALSA lib pcm.c:8526:(snd_pcm_recover) underrun occurred\n",
      "ALSA lib pcm.c:8526:(snd_pcm_recover) underrun occurred\n"
     ]
    }
   ],
   "source": [
    "print('c')"
   ]
  },
  {
   "cell_type": "code",
   "execution_count": 27,
   "metadata": {},
   "outputs": [
    {
     "ename": "SyntaxError",
     "evalue": "invalid syntax (<ipython-input-27-e5482c5c1562>, line 7)",
     "output_type": "error",
     "traceback": [
      "\u001b[1;36m  File \u001b[1;32m\"<ipython-input-27-e5482c5c1562>\"\u001b[1;36m, line \u001b[1;32m7\u001b[0m\n\u001b[1;33m    for i in range(1000):\u001b[0m\n\u001b[1;37m                        ^\u001b[0m\n\u001b[1;31mSyntaxError\u001b[0m\u001b[1;31m:\u001b[0m invalid syntax\n"
     ]
    }
   ],
   "source": [
    "# Membunyikan HRIR\n",
    "\n",
    "\n",
    "\n",
    "# fs_h = 44100# sample rate\n",
    "# T = 10.0# seconds\n",
    "# t = np.linspace(0, T, int(T*fs_h, endpoint=False)# time variable\n",
    "\n",
    "# for i in range(1000):\n",
    "#     x = 0.5*np.sin(i*np.pi*440*t)\n",
    "#     ipd.display(ipd.Audio(HRIR.transpose(), rate=fs_h))\n",
    "\n",
    "# sr = 22050# sample rate\n",
    "# T = 10.0# seconds\n",
    "# t = np.linspace(0, T, int(T*sr), endpoint=False)# time variable\n",
    "# x = 0.5*np.sin(2*np.pi*440*t)\n",
    "# Audio(HRIR.transpose(), rate=sr)\n",
    "\n",
    "# for i in range(10):\n",
    "# Audio(HRIR.transpose(), rate=fs_H, autoplay=True)\n",
    "\n",
    "# for i in range(10):\n",
    "#     Audio.display(Audio.Audio(HRIR.transpose(), rate=fs_H))\n",
    "\n",
    "# Audio(HRIR.transpose(), rate=fs_H)"
   ]
  },
  {
   "cell_type": "code",
   "execution_count": 9,
   "metadata": {},
   "outputs": [
    {
     "name": "stderr",
     "output_type": "stream",
     "text": [
      "<ipython-input-9-47707be75ee5>:7: UserWarning: Legend does not support 'L' instances.\n",
      "A proxy artist may be used instead.\n",
      "See: https://matplotlib.org/users/legend_guide.html#creating-artists-specifically-for-adding-to-the-legend-aka-proxy-artists\n",
      "  plt.legend('Left','Right');\n",
      "<ipython-input-9-47707be75ee5>:7: UserWarning: Legend does not support 'e' instances.\n",
      "A proxy artist may be used instead.\n",
      "See: https://matplotlib.org/users/legend_guide.html#creating-artists-specifically-for-adding-to-the-legend-aka-proxy-artists\n",
      "  plt.legend('Left','Right');\n",
      "<ipython-input-9-47707be75ee5>:7: UserWarning: Legend does not support 'f' instances.\n",
      "A proxy artist may be used instead.\n",
      "See: https://matplotlib.org/users/legend_guide.html#creating-artists-specifically-for-adding-to-the-legend-aka-proxy-artists\n",
      "  plt.legend('Left','Right');\n",
      "<ipython-input-9-47707be75ee5>:7: UserWarning: Legend does not support 't' instances.\n",
      "A proxy artist may be used instead.\n",
      "See: https://matplotlib.org/users/legend_guide.html#creating-artists-specifically-for-adding-to-the-legend-aka-proxy-artists\n",
      "  plt.legend('Left','Right');\n"
     ]
    },
    {
     "data": {
      "image/png": "[encoded data removed]",
      "text/plain": [
       "<Figure size 432x288 with 1 Axes>"
      ]
     },
     "metadata": {
      "needs_background": "light"
     },
     "output_type": "display_data"
    }
   ],
   "source": [
    "# Plot HRIR: Visualisasi Domain Waktu\n",
    "plt.plot(HRIR[:,0]) # suara dari kiri\n",
    "plt.plot(HRIR[:,1]) # suara dari kanan\n",
    "plt.xlabel('Sampel Waktu')\n",
    "plt.ylabel('Amplitudo')\n",
    "plt.title('Sudut HRIR' + _MIT[az_index][27:-4])\n",
    "plt.legend('Kiri','Kanan');"
   ]
  },
  {
   "cell_type": "code",
   "execution_count": 10,
   "metadata": {},
   "outputs": [
    {
     "data": {
      "image/png": "[encoded data removed]",
      "text/plain": [
       "<Figure size 432x288 with 1 Axes>"
      ]
     },
     "metadata": {
      "needs_background": "light"
     },
     "output_type": "display_data"
    }
   ],
   "source": [
    "# Plot HRIR: Visualisasi dalam Domain Frekuensi\n",
    "nfft = len(HRIR)*8\n",
    "HRTF = np.fft.fft(HRIR, n=nfft, axis=0)\n",
    "HRTF_mag = (2/nfft)*np.abs(HRTF[0:int(len(HRTF)/2)+1,:])\n",
    "HRTF_mag_dB = 20*np.log10(HRTF_mag)\n",
    "\n",
    "f_axis = np.linspace(0, fs_H/2, len(HRTF_mag_dB))\n",
    "plt.semilogx(f_axis, HRTF_mag_dB)\n",
    "plt.title('Sudut HRTF: ' + _MIT[az_index][27:-4])\n",
    "plt.xlabel('Frekuensi [Hz]')\n",
    "plt.ylabel('Magnitudo [dB]')\n",
    "plt.legend(['Kiri','Kanan']);"
   ]
  },
  {
   "cell_type": "code",
   "execution_count": null,
   "metadata": {},
   "outputs": [],
   "source": []
  },
  {
   "cell_type": "code",
   "execution_count": null,
   "metadata": {},
   "outputs": [],
   "source": [
    "# BAGIAN 2\n",
    "\n",
    "# Virtualisasi dataset audio dari folder LISTEN\n",
    "# Belum perlu dikerjakan, selesaikan dulu percobaan BAGIAN 1"
   ]
  },
  {
   "cell_type": "code",
   "execution_count": null,
   "metadata": {},
   "outputs": [],
   "source": [
    "# Masukkan sumber audio\n",
    "\n",
    "source_idx = 19\n",
    "print('Source is: ' + _SOURCES[source_idx][15:-8])\n",
    "[sig, fs_s] = sf.read(_SOURCES[source_idx])\n",
    "print('Sample rate: ', fs_s)\n",
    "print('Data dimensions: ', sig.shape)"
   ]
  },
  {
   "cell_type": "code",
   "execution_count": null,
   "metadata": {},
   "outputs": [],
   "source": [
    "# Mengubah suara stereo ke mono\n",
    "\n",
    "if sig.shape[1]>1:\n",
    "    sig_mono = np.mean(sig, axis=1)\n",
    "else:\n",
    "    sig_mono = sig\n",
    "\n",
    "print('New data dimensions: ', sig_mono, shape)\n",
    "\n",
    "# Mendengarkan audio versi mono\n",
    "\n",
    "Audio(sig_mono, rate=fs_s)"
   ]
  },
  {
   "cell_type": "code",
   "execution_count": null,
   "metadata": {},
   "outputs": [],
   "source": [
    "# Sample rates are different - resample to match\n",
    "\n",
    "def fs_resample(s1,f1,s2,f2):\n",
    "    if f1 != f2:\n",
    "        if f2 < f1:\n",
    "            s2 = librosa.core.resample(s2.transpose(),f2,f1)\n",
    "            s2 = s2.transpose()\n",
    "        else:\n",
    "            s1 = librosa.core.resample(s1.transpose(),f1,f2)\n",
    "            s1 = s1.transpose()\n",
    "    fmax = max([f1,f2])\n",
    "    f1 = fmax\n",
    "    f2 = fmax\n",
    "    print('Resampled at: ', fmax, 'Hz')\n",
    "    return s1, f1, s2, f2"
   ]
  },
  {
   "cell_type": "code",
   "execution_count": null,
   "metadata": {},
   "outputs": [],
   "source": [
    "# Gunakan fungsi\n",
    "\n",
    "[sig_mono, fs_s, HRIR, fs_H] = fs_resample(sig_mono, fs_s, HRIR, fs_H)\n",
    "print('sig dimensions: ', sig_mono.shape)\n",
    "print('hrir dimensions: ', HRIR.shape)"
   ]
  },
  {
   "cell_type": "code",
   "execution_count": null,
   "metadata": {},
   "outputs": [],
   "source": [
    "# Konvolusi domain waktu antara sumber sinyal dan kanal HRIR\n",
    "s_L = np.convolve(sig_mono, HRIR[:,0])\n",
    "s_R = np.convolve(sig_mono, HRIR[:,1])\n",
    "\n",
    "# Masukkan hasil konvolusi Kiri/Kanan ke matriks N baris/2 kolom untuk reproduksi stereo\n",
    "Bin_Mix = np.vstack([s_L, s_R]).transpose()\n",
    "print('Dimensi data: ', Bin_Mix.shape)"
   ]
  },
  {
   "cell_type": "code",
   "execution_count": null,
   "metadata": {},
   "outputs": [],
   "source": [
    "# Dengarkan\n",
    "Audio(Bin_Mix.transpose(),rate=fs_s)"
   ]
  },
  {
   "cell_type": "code",
   "execution_count": null,
   "metadata": {},
   "outputs": [],
   "source": [
    "# Savefile\n",
    "sf.write('Example1.wav', Bin_Mix, fs_s)"
   ]
  }
 ],
 "metadata": {
  "kernelspec": {
   "display_name": "Python 3.10.4 ('new_env')",
   "language": "python",
   "name": "python3"
  },
  "language_info": {
   "codemirror_mode": {
    "name": "ipython",
    "version": 3
   },
   "file_extension": ".py",
   "mimetype": "text/x-python",
   "name": "python",
   "nbconvert_exporter": "python",
   "pygments_lexer": "ipython3",
   "version": "3.10.4"
  },
  "vscode": {
   "interpreter": {
    "hash": "39f612c156f4a428e091c4b042135095e16236d1fe4238ba25359cd029702f75"
   }
  }
 },
 "nbformat": 4,
 "nbformat_minor": 4
}
